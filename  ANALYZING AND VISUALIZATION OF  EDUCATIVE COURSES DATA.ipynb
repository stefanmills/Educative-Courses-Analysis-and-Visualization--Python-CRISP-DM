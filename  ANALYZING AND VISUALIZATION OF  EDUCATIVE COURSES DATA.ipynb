{
 "cells": [
  {
   "cell_type": "markdown",
   "id": "65701d71",
   "metadata": {},
   "source": [
    "# ANALYZING EDUCATIVE COURSES DATA"
   ]
  },
  {
   "cell_type": "markdown",
   "id": "ebe4ba24",
   "metadata": {},
   "source": [
    "## Background  \n",
    "This analysis project focuses on the educational technology company, Educative, known for its online platform that offers a diverse range of courses to empower individuals seeking to enhance their skills in both professional and academic domains.\n",
    "Analysis of data from the company will be in-line with <b>Cross Industry Standard for Data Mining (CRISP-DM)\n"
   ]
  },
  {
   "cell_type": "markdown",
   "id": "bceb802a",
   "metadata": {},
   "source": [
    "# Planned Steps\n",
    "* Create a extraction file location \n",
    "* Unzip the CSV \n",
    "* Merge CSVs into one dataframe and save that in excel as the first sheet\n",
    "* Do EDA to check vitals (Nulls, Duplicates, Shape, etc)\n",
    "\n",
    "* <b>Clean Data</b>\n",
    "    * Drop the URL Column as it wont be in use\n",
    "    * Remove Duplicated rows based on the courses_id column\n",
    "    * Remove suffix of \"subject: \" from the subject columns\n",
    "    * Create 2 columns 'Free_or_Paid' and 'Revenue'\n",
    "    * Split the publised_timestamp columns into publised_date(Change data format to dd/mm/yyyy) and published_time\n",
    "    * Create a time_of_day (Morning/Afternoon/ Evening) column based on the published_time\n",
    "    * Change columns names and reorder columns\n",
    "    * Change the column datatype  \n",
    "    * Do EDA on the new dataframe created\n",
    "    * Find the top 20 courses per subscribers and add some key columns like Free_or_Paid/Levels/publised_date  \n",
    "      \n",
    " \n",
    "* <b>Create a final excel sheet with 3 sheets to hold , the original data/cleaned data/ summarydata <b/>   \n",
    "* Create Pivot Tables and Visualize some Data\n",
    "* Create a report using PowerBI"
   ]
  },
  {
   "cell_type": "code",
   "execution_count": 1,
   "id": "0232c371",
   "metadata": {},
   "outputs": [],
   "source": [
    "import os\n",
    "import zipfile\n",
    "import pandas as pd\n",
    "import glob\n",
    "import matplotlib.pyplot as plt\n",
    "import seaborn as sns"
   ]
  },
  {
   "cell_type": "code",
   "execution_count": 2,
   "id": "c59e1ae8",
   "metadata": {},
   "outputs": [],
   "source": [
    "#Unzipping the dataset.zip file into the current working directory\n",
    "zip_path=\"dataset.zip\"\n",
    "ext_path=os.getcwd()\n",
    "\n",
    "#creating the extracted folder\n",
    "if not os.path.exists(ext_path):\n",
    "    os.makedirs(ext_path)\n",
    "#Unziping file\n",
    "\n",
    "with zipfile.ZipFile(zip_path,'r') as zipping:\n",
    "    zipping.extractall(ext_path)"
   ]
  },
  {
   "cell_type": "code",
   "execution_count": null,
   "id": "49617caa",
   "metadata": {},
   "outputs": [],
   "source": [
    "#Merging Files\n",
    "all_files=glob.glob(\"Data Sheet Educative Courses Export\\\\Data_Sheet*.csv\")\n",
    "print(f'List of all the files \\n :{all_files}\\n\\n')\n",
    "\n",
    "df_list=[pd.read_csv(file) for file in all_files] #Created a list of dataframes form the all_files list\n",
    "all_csvs=pd.concat(df_list,ignore_index=True)\n",
    "all_csvs"
   ]
  },
  {
   "cell_type": "markdown",
   "id": "95f980aa",
   "metadata": {},
   "source": [
    "## Basic Exploratory Data Analysis"
   ]
  },
  {
   "cell_type": "code",
   "execution_count": null,
   "id": "4127c1fe",
   "metadata": {},
   "outputs": [],
   "source": [
    "print(all_csvs.shape)"
   ]
  },
  {
   "cell_type": "code",
   "execution_count": null,
   "id": "a32fc910",
   "metadata": {},
   "outputs": [],
   "source": [
    "print (all_csvs.info())"
   ]
  },
  {
   "cell_type": "code",
   "execution_count": null,
   "id": "b18011b1",
   "metadata": {},
   "outputs": [],
   "source": [
    "all_csvs.isnull().sum()\n",
    "#Checking the number of nulls in the duplicate of the original data\n",
    "print(f'List of the null columns in original data\\n\\n{all_csvs.isnull().sum()}\\n')\n",
    "print(f'\\nNumber of duplicated records in original data  : {all_csvs.duplicated().sum()}')"
   ]
  },
  {
   "cell_type": "code",
   "execution_count": null,
   "id": "a072a5b1",
   "metadata": {
    "scrolled": true
   },
   "outputs": [],
   "source": [
    "#Creating duplicated dataset to work on\n",
    "dup_data=all_csvs.copy()\n",
    "dup_data"
   ]
  },
  {
   "cell_type": "code",
   "execution_count": null,
   "id": "5c0e1931",
   "metadata": {},
   "outputs": [],
   "source": [
    "dup_data.shape"
   ]
  },
  {
   "cell_type": "code",
   "execution_count": null,
   "id": "eab8b5c0",
   "metadata": {},
   "outputs": [],
   "source": [
    "dup_data.info()"
   ]
  },
  {
   "cell_type": "code",
   "execution_count": null,
   "id": "c1dd7911",
   "metadata": {},
   "outputs": [],
   "source": [
    "#Checking the number of nulls in the duplicate of the original data\n",
    "print(f'List of the null columns before cleaning \\n\\n{dup_data.isnull().sum()}\\n')\n",
    "print(f'\\nNumber of duplicated records before cleaning : {dup_data.duplicated().sum()}')"
   ]
  },
  {
   "cell_type": "code",
   "execution_count": null,
   "id": "4b1e851e",
   "metadata": {},
   "outputs": [],
   "source": [
    "#Dropping the URL column as it won't be of any use to the analysis\n",
    "dup_data=dup_data.drop(columns='url')\n",
    "dup_data.head()"
   ]
  },
  {
   "cell_type": "code",
   "execution_count": null,
   "id": "3af2959a",
   "metadata": {},
   "outputs": [],
   "source": [
    "#Dropping rows if they have no data in the course_id column and resetting indexes after\n",
    "dup_data=dup_data.dropna(subset='course_id')\n",
    "dup_data=dup_data.reset_index(drop=True)\n",
    "dup_data"
   ]
  },
  {
   "cell_type": "code",
   "execution_count": null,
   "id": "9f370614",
   "metadata": {},
   "outputs": [],
   "source": [
    "#Checking the new shape after a little cleaning\n",
    "dup_data.shape"
   ]
  },
  {
   "cell_type": "code",
   "execution_count": null,
   "id": "9e7aaf3f",
   "metadata": {},
   "outputs": [],
   "source": [
    "#Checking the number of nulls in the duplicate of the original data\n",
    "print(f'List of the null columns after cleaning \\n\\n{dup_data.isnull().sum()}')\n",
    "print(f'\\nNumber of duplicated records after cleaning : {dup_data.duplicated().sum()}')"
   ]
  },
  {
   "cell_type": "code",
   "execution_count": null,
   "id": "e559284e",
   "metadata": {},
   "outputs": [],
   "source": [
    "#Descriptive Statistics on the numerical column\n",
    "dup_data.describe()"
   ]
  },
  {
   "cell_type": "code",
   "execution_count": null,
   "id": "d313000f",
   "metadata": {},
   "outputs": [],
   "source": [
    "#Descriptive Statistics on the numerical column\n",
    "dup_data.describe(include='object')"
   ]
  },
  {
   "cell_type": "code",
   "execution_count": null,
   "id": "6866d38c",
   "metadata": {},
   "outputs": [],
   "source": [
    "#Creating of the Revenue column and free_or_paid\n",
    "dup_data['revenue']=dup_data['price']*dup_data['num_subscribers']\n",
    "dup_data['Free_or_Paid']=dup_data['price'].apply(lambda x: 'Free' if x ==0 else 'Paid')\n",
    "dup_data"
   ]
  },
  {
   "cell_type": "code",
   "execution_count": null,
   "id": "f2235e90",
   "metadata": {},
   "outputs": [],
   "source": [
    "#Cleaning the Subject column by taking off the 'Subject : 'prefix for some records\n",
    "dup_data['subject']=dup_data['subject'].str.lstrip('Subject:')\n",
    "dup_data"
   ]
  },
  {
   "cell_type": "code",
   "execution_count": null,
   "id": "49f7ec86",
   "metadata": {},
   "outputs": [],
   "source": [
    "#Splitting the published_timestamp to published_date and published_time\n",
    "dup_data[['published_date','published_time']]=dup_data['published_timestamp'].str.split('T',expand=True) #T is the delimiter\n",
    "dup_data['published_time']=dup_data['published_time'].str.rstrip('Z') \n",
    "dup_data=dup_data.drop(columns='published_timestamp')\n",
    "dup_data.head()"
   ]
  },
  {
   "cell_type": "code",
   "execution_count": null,
   "id": "783e593d",
   "metadata": {},
   "outputs": [],
   "source": [
    "#Converting from yyyy/mm/dd to dd/mm/yyyy in the published_date column\n",
    "dup_data['published_date']=pd.to_datetime(dup_data['published_date']).dt.strftime('%d/%m/%Y')\n",
    "dup_data"
   ]
  },
  {
   "cell_type": "code",
   "execution_count": null,
   "id": "9696fde2",
   "metadata": {},
   "outputs": [],
   "source": [
    "#Converting the published_time to a time datatype to assit you create the time_of_day\n",
    "#Categorizing the published time into time of the day Morning (times which are less than 12pm), Afternoon(less than 6pm),Evening\n",
    "#12:00:00 == 43200secs // 18:00:00 == 64800secs (Morning <12pm, Afternoon <6pm)\n",
    "dup_data['times_in_seconds']=pd.to_timedelta(dup_data['published_time']).dt.total_seconds().astype(int)\n",
    "dup_data['time_of_day']=dup_data['times_in_seconds'].apply(lambda x:'Morning' if x< 43200 else('Afternoon' if x < 64800 else 'Evening'))\n",
    "dup_data=dup_data.drop(columns='times_in_seconds')\n",
    "dup_data"
   ]
  },
  {
   "cell_type": "code",
   "execution_count": null,
   "id": "d8cac482",
   "metadata": {},
   "outputs": [],
   "source": [
    "dup_data.info()"
   ]
  },
  {
   "cell_type": "code",
   "execution_count": null,
   "id": "661eed3c",
   "metadata": {},
   "outputs": [],
   "source": [
    "print(f'original columns : {all_csvs.columns}')\n",
    "print(f'duplicated data columns : {dup_data.columns}')"
   ]
  },
  {
   "cell_type": "code",
   "execution_count": null,
   "id": "65608c77",
   "metadata": {},
   "outputs": [],
   "source": [
    "#Changing Column Names\n",
    "new_names=['Course_ID', 'Course_Title', 'Price', 'Number_of_Subscribers', 'Number_of_Reviews','Number_of_Lectures', \n",
    "           'Level', 'Rating', 'Content_Duration', 'Subject','Revenue', 'Free_or_Paid', 'Published_Date', 'Published_Time',\n",
    "       'Time_of_Day']\n",
    "dup_data.columns=new_names\n",
    "dup_data"
   ]
  },
  {
   "cell_type": "code",
   "execution_count": null,
   "id": "f6d30ac4",
   "metadata": {},
   "outputs": [],
   "source": [
    "#Reordering the columns\n",
    "reorder_cols=['Course_ID', 'Course_Title', 'Free_or_Paid','Price', 'Number_of_Subscribers', 'Revenue','Number_of_Reviews',\n",
    "              'Number_of_Lectures', 'Level', 'Rating', 'Content_Duration', 'Subject',  'Published_Date', 'Published_Time',\n",
    "              'Time_of_Day']\n",
    "dup_data=dup_data.reindex(columns=reorder_cols)\n",
    "dup_data.head()"
   ]
  },
  {
   "cell_type": "code",
   "execution_count": null,
   "id": "5c3dc3b0",
   "metadata": {},
   "outputs": [],
   "source": [
    "#Changing the datatypes\n",
    "dup_data['Course_ID']=dup_data['Course_ID'].astype('object')\n",
    "dup_data['Free_or_Paid']=dup_data['Free_or_Paid'].astype('category')\n",
    "dup_data['Subject']=dup_data['Subject'].astype('category')\n",
    "dup_data['Level']=dup_data['Level'].astype('category')\n",
    "dup_data['Number_of_Subscribers']=dup_data['Number_of_Subscribers'].astype('int')\n",
    "dup_data['Number_of_Reviews']=dup_data['Number_of_Reviews'].astype('int')\n",
    "dup_data['Number_of_Lectures']=dup_data['Number_of_Lectures'].astype('int')\n",
    "dup_data['Number_of_Subscribers']=dup_data['Number_of_Subscribers'].astype('int')\n",
    "dup_data['Time_of_Day']=dup_data['Time_of_Day'].astype('category')"
   ]
  },
  {
   "cell_type": "code",
   "execution_count": null,
   "id": "de173335",
   "metadata": {},
   "outputs": [],
   "source": [
    "dup_data.info()"
   ]
  },
  {
   "cell_type": "code",
   "execution_count": null,
   "id": "6e04f372",
   "metadata": {},
   "outputs": [],
   "source": [
    "dup_data.head()"
   ]
  },
  {
   "cell_type": "code",
   "execution_count": null,
   "id": "2a7bdbc6",
   "metadata": {
    "scrolled": false
   },
   "outputs": [],
   "source": [
    "dup_data.corr(numeric_only=True)"
   ]
  },
  {
   "cell_type": "code",
   "execution_count": null,
   "id": "c8c81043",
   "metadata": {},
   "outputs": [],
   "source": [
    "cleaned_data=dup_data.copy()"
   ]
  },
  {
   "cell_type": "code",
   "execution_count": null,
   "id": "853317ff",
   "metadata": {},
   "outputs": [],
   "source": [
    "#Summary data of the top 20 subjects based on the subscribers\n",
    "target_cols=['Course_Title','Number_of_Subscribers','Level','Free_or_Paid','Content_Duration','Published_Date']\n",
    "top_20_courses=dup_data[target_cols].sort_values(by='Number_of_Subscribers',ascending=False).copy()\n",
    "top_20_courses=top_20_courses.sort_values(by='Number_of_Subscribers',ascending=False).head(20)\n",
    "top_20_courses=top_20_courses.reset_index(drop=True)\n",
    "top_20_courses"
   ]
  },
  {
   "cell_type": "code",
   "execution_count": null,
   "id": "bfe9c645",
   "metadata": {},
   "outputs": [],
   "source": [
    "#Saving the 3 data into one excel\n",
    "with pd.ExcelWriter('Educative Data.xlsx') as master:\n",
    "    all_csvs.to_excel(master, sheet_name='Main_Data', index=False)\n",
    "    cleaned_data.to_excel(master, sheet_name='Cleaned_Data', index=False)\n",
    "    top_20_courses.to_excel(master, sheet_name='Top_20_Subs_Courses', index=False)"
   ]
  },
  {
   "cell_type": "code",
   "execution_count": null,
   "id": "02f82c80",
   "metadata": {},
   "outputs": [],
   "source": []
  },
  {
   "cell_type": "code",
   "execution_count": null,
   "id": "dbeddc06",
   "metadata": {},
   "outputs": [],
   "source": []
  },
  {
   "cell_type": "markdown",
   "id": "a4b87298",
   "metadata": {},
   "source": [
    "# Data Visualization"
   ]
  },
  {
   "cell_type": "markdown",
   "id": "73931cbe",
   "metadata": {},
   "source": [
    "* <b>Visualizations</b>\n",
    "    * Create the pivot table for the following and visualize  \n",
    "        ●Total number of subscribers for each subject   \n",
    "        ●Average subscriber count per subject  \n",
    "        ●Average cost per subject at each level  \n",
    "        ●Average content duration per subject  \n",
    "        ●Average rating per subject for each level  \n",
    "        ●Revenue Generated per each subject over the years\n",
    "  \n",
    "* Save visuals in a PDF format after.                "
   ]
  },
  {
   "cell_type": "code",
   "execution_count": null,
   "id": "03fb509c",
   "metadata": {},
   "outputs": [],
   "source": [
    "#Creating a duplicate of the cleaned data for my pivot table\n",
    "pivot_data=cleaned_data.copy()\n",
    "pivot_data['Published_Date'] = pd.to_datetime(pivot_data['Published_Date'], format='%d/%m/%Y')\n",
    "\n",
    "# Create a new column for just the year\n",
    "pivot_data['Published_Year'] = pivot_data['Published_Date'].dt.year\n",
    "pivot_data.head()\n"
   ]
  },
  {
   "cell_type": "code",
   "execution_count": null,
   "id": "63efd1a8",
   "metadata": {},
   "outputs": [],
   "source": []
  },
  {
   "cell_type": "code",
   "execution_count": null,
   "id": "a11fdbb4",
   "metadata": {
    "scrolled": false
   },
   "outputs": [],
   "source": [
    "#Pivot Table for the Total Number of Subscribers Per Subject\n",
    "subject_subs=pd.pivot_table(data=pivot_data,index='Subject',values='Number_of_Subscribers',aggfunc='sum')\n",
    "subject_subs"
   ]
  },
  {
   "cell_type": "code",
   "execution_count": null,
   "id": "effff69b",
   "metadata": {},
   "outputs": [],
   "source": [
    "custom_palette = sns.color_palette([\"#607C3C\", \"#ABC32F\", \"#809C13\", \"#B5E550\"])\n",
    "#custom_palette = sns.color_palette([\"#556B2F\", \"#8FBC8F\", \"#C0D9AF\", \"#E0EEE0\"])\n",
    "explode_list= [0.1,0,0.1,0.1]\n",
    "plt.pie(subject_subs[\"Number_of_Subscribers\"],\n",
    "        autopct = '%.1f%%',labels=subject_subs.index,\n",
    "        shadow=True, colors=custom_palette,\n",
    "       startangle=45);\n",
    "plt.title('Ratio of Subscribers Per Subject',\n",
    "          fontsize=16, fontweight='bold')\n",
    "plt.savefig('subs_per_subject_ratio_pie_chart.png')\n",
    "plt.show()"
   ]
  },
  {
   "cell_type": "code",
   "execution_count": null,
   "id": "5457d302",
   "metadata": {},
   "outputs": [],
   "source": []
  },
  {
   "cell_type": "code",
   "execution_count": null,
   "id": "52883c98",
   "metadata": {
    "scrolled": true
   },
   "outputs": [],
   "source": [
    "#Average subscriber count per subject\n",
    "avg_sub_subject=round((pd.pivot_table(data=pivot_data, index='Subject',values='Number_of_Subscribers',aggfunc='mean')),2)\n",
    "avg_sub_subject=avg_sub_subject.sort_values(by='Number_of_Subscribers',ascending=False)\n",
    "avg_sub_subject"
   ]
  },
  {
   "cell_type": "code",
   "execution_count": null,
   "id": "497e0771",
   "metadata": {},
   "outputs": [],
   "source": [
    "\n",
    "custom_palette = sns.color_palette([\"#607C3C\", \"#ABC32F\", \"#809C13\", \"#B5E550\"])\n",
    "ax=sns.barplot(data=avg_sub_subject,x=avg_sub_subject.index,y=avg_sub_subject['Number_of_Subscribers'],\n",
    "            palette=custom_palette,order=avg_sub_subject.index)\n",
    "\n",
    "for p in ax.patches:\n",
    "    height = p.get_height()\n",
    "    ax.annotate(f'{int(height)}', (p.get_x() + p.get_width() / 2., height),\n",
    "                ha='center', va='center', fontsize=12, color='black', xytext=(0, 5),\n",
    "                textcoords='offset points')\n",
    "\n",
    "plt.xticks(fontsize=8,fontweight='bold')  \n",
    "plt.yticks([])\n",
    "plt.xlabel(None)  # X-axis label\n",
    "plt.ylabel('Avg Subscribers Number', fontsize=12,labelpad=15)  # Y-axis label\n",
    "plt.title('Average Number of Subscribers Per Subject', fontsize=16, fontweight='bold',pad=20) \n",
    "plt.savefig('avg_subs_num_per_subject_column_chart.png')\n",
    "plt.show()"
   ]
  },
  {
   "cell_type": "code",
   "execution_count": null,
   "id": "aef0052f",
   "metadata": {},
   "outputs": [],
   "source": []
  },
  {
   "cell_type": "code",
   "execution_count": null,
   "id": "1a1f1a32",
   "metadata": {
    "scrolled": true
   },
   "outputs": [],
   "source": [
    "#Average content duration per subject\n",
    "avg_dur_subj=round((pd.pivot_table(data=pivot_data, index='Subject',values='Content_Duration',aggfunc='mean')),1)\n",
    "avg_dur_subj"
   ]
  },
  {
   "cell_type": "code",
   "execution_count": null,
   "id": "329b36fe",
   "metadata": {},
   "outputs": [],
   "source": [
    "\n",
    "custom_palette = sns.color_palette([\"#607C3C\", \"#ABC32F\", \"#809C13\", \"#B5E550\"])\n",
    "ax=sns.barplot(data=avg_dur_subj,x=avg_dur_subj.index,y=avg_dur_subj['Content_Duration'],\n",
    "            palette=custom_palette,order=avg_dur_subj.index)\n",
    "\n",
    "\n",
    "    \n",
    "plt.xticks(fontsize=8, fontweight='bold') \n",
    "plt.xlabel(None)  # X-axis label\n",
    "plt.ylabel('Average Rating', fontsize=14,labelpad=15)  # Y-axis label\n",
    "plt.title('Average Rating Per Subject', fontsize=16, fontweight='bold',pad=20) \n",
    "plt.savefig('avg_rat_per_subject_column_chart.png')\n",
    "plt.show()"
   ]
  },
  {
   "cell_type": "code",
   "execution_count": null,
   "id": "e03b738a",
   "metadata": {},
   "outputs": [],
   "source": []
  },
  {
   "cell_type": "code",
   "execution_count": null,
   "id": "04b008f9",
   "metadata": {
    "scrolled": true
   },
   "outputs": [],
   "source": [
    "# Average cost per subject at each level\n",
    "avg_sub_subjlvl=round((pd.pivot_table(data=pivot_data, index='Subject', columns='Level',values='Price',aggfunc='mean')),2)\n",
    "avg_sub_subjlvl"
   ]
  },
  {
   "cell_type": "code",
   "execution_count": null,
   "id": "3c27af9a",
   "metadata": {},
   "outputs": [],
   "source": [
    "custom_palette =[\"#607C3C\",  \"#809C13\", \"#ABC32F\", \"#B5E550\"]\n",
    "sns.set_palette(custom_palette)\n",
    "sns.catplot(data=cleaned_data,x='Subject',y='Price',hue='Level', kind='bar',aspect=2)\n",
    "plt.xticks(fontsize=8, fontweight='bold')\n",
    "plt.xlabel(None)\n",
    "plt.ylabel('Rating', fontsize=14)\n",
    "plt.title(' Average Price Per Subject For Each Level',  fontsize=16, fontweight='bold',pad=20)\n",
    "plt.savefig('avg_price_per_subjectlevel_column_chart.png')\n",
    "plt.show()"
   ]
  },
  {
   "cell_type": "code",
   "execution_count": null,
   "id": "a17bfbcf",
   "metadata": {},
   "outputs": [],
   "source": []
  },
  {
   "cell_type": "code",
   "execution_count": null,
   "id": "bf226029",
   "metadata": {},
   "outputs": [],
   "source": [
    "#Average rating per subject for each level\n",
    "avg_rat_subjlvl=round((pd.pivot_table(data=pivot_data, index='Subject', columns='Level',values='Rating',aggfunc='mean')),2)\n",
    "avg_rat_subjlvl"
   ]
  },
  {
   "cell_type": "code",
   "execution_count": null,
   "id": "ef4f544a",
   "metadata": {},
   "outputs": [],
   "source": [
    "custom_palette =[\"#607C3C\",  \"#809C13\", \"#ABC32F\", \"#B5E550\"]\n",
    "sns.set_palette(custom_palette)\n",
    "sns.catplot(data=cleaned_data,x='Subject',y='Rating',hue='Level', kind='bar',aspect=2)\n",
    "plt.xticks(fontsize=8, fontweight='bold')\n",
    "plt.xlabel(None)\n",
    "plt.ylabel('Rating', fontsize=14)\n",
    "plt.title(' Average Rating Per Subject For Each Level',  fontsize=16, fontweight='bold',pad=20)\n",
    "plt.savefig('avg_rating_per_subjectlevel_column_chart.png')\n",
    "plt.show()"
   ]
  },
  {
   "cell_type": "code",
   "execution_count": null,
   "id": "90c0e288",
   "metadata": {},
   "outputs": [],
   "source": []
  },
  {
   "cell_type": "code",
   "execution_count": null,
   "id": "424f549f",
   "metadata": {},
   "outputs": [],
   "source": [
    "#Creating Pivot Table of the data\n",
    "yoy_subj_revenue=(pd.pivot_table(data=pivot_data, index='Published_Year',values='Revenue',aggfunc=\"sum\"))\n",
    "\n",
    "yoy_subj_revenue"
   ]
  },
  {
   "cell_type": "code",
   "execution_count": null,
   "id": "061ea7a2",
   "metadata": {},
   "outputs": [],
   "source": [
    "sns.relplot(data=yoy_subj_revenue, kind=\"line\",markers=True,legend=False,aspect=1.5)\n",
    "plt.xticks(fontsize=8, fontweight='bold')\n",
    "plt.yticks(([]))\n",
    "plt.xlabel(None)\n",
    "plt.ylabel('Revenue', fontsize=14,labelpad=15,fontweight='bold')\n",
    "plt.title('Revenue Generated Per Year',  fontsize=16, fontweight='bold',pad=20)\n",
    "plt.savefig('yoy_revenue_line_graph.png')\n",
    "plt.show()"
   ]
  },
  {
   "cell_type": "code",
   "execution_count": null,
   "id": "7f6df912",
   "metadata": {},
   "outputs": [],
   "source": []
  },
  {
   "cell_type": "code",
   "execution_count": null,
   "id": "8cdc846a",
   "metadata": {},
   "outputs": [],
   "source": []
  }
 ],
 "metadata": {
  "kernelspec": {
   "display_name": "Python 3 (ipykernel)",
   "language": "python",
   "name": "python3"
  },
  "language_info": {
   "codemirror_mode": {
    "name": "ipython",
    "version": 3
   },
   "file_extension": ".py",
   "mimetype": "text/x-python",
   "name": "python",
   "nbconvert_exporter": "python",
   "pygments_lexer": "ipython3",
   "version": "3.11.5"
  }
 },
 "nbformat": 4,
 "nbformat_minor": 5
}
